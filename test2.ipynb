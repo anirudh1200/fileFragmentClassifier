{
 "cells": [
  {
   "cell_type": "code",
   "execution_count": 1,
   "metadata": {},
   "outputs": [
    {
     "name": "stdout",
     "output_type": "stream",
     "text": [
      "Training data: -f\tTesting data: /home/anirudh/.local/share/jupyter/runtime/kernel-364a3b98-70d7-4a58-b85e-ddb21e9511f0.json\n"
     ]
    },
    {
     "ename": "FileNotFoundError",
     "evalue": "[Errno 2] No such file or directory: '-f'",
     "output_type": "error",
     "traceback": [
      "\u001b[0;31m---------------------------------------------------------------------------\u001b[0m",
      "\u001b[0;31mFileNotFoundError\u001b[0m                         Traceback (most recent call last)",
      "\u001b[0;32m<ipython-input-1-714ce5b3b881>\u001b[0m in \u001b[0;36m<module>\u001b[0;34m\u001b[0m\n\u001b[1;32m     70\u001b[0m         \u001b[0msys\u001b[0m\u001b[0;34m.\u001b[0m\u001b[0mexit\u001b[0m\u001b[0;34m(\u001b[0m\u001b[0;36m0\u001b[0m\u001b[0;34m)\u001b[0m\u001b[0;34m\u001b[0m\u001b[0;34m\u001b[0m\u001b[0m\n\u001b[1;32m     71\u001b[0m     \u001b[0mprint\u001b[0m\u001b[0;34m(\u001b[0m\u001b[0;34m\"Training data: {}\\tTesting data: {}\"\u001b[0m\u001b[0;34m.\u001b[0m\u001b[0mformat\u001b[0m\u001b[0;34m(\u001b[0m\u001b[0msys\u001b[0m\u001b[0;34m.\u001b[0m\u001b[0margv\u001b[0m\u001b[0;34m[\u001b[0m\u001b[0;36m1\u001b[0m\u001b[0;34m]\u001b[0m\u001b[0;34m,\u001b[0m \u001b[0msys\u001b[0m\u001b[0;34m.\u001b[0m\u001b[0margv\u001b[0m\u001b[0;34m[\u001b[0m\u001b[0;36m2\u001b[0m\u001b[0;34m]\u001b[0m\u001b[0;34m)\u001b[0m\u001b[0;34m)\u001b[0m\u001b[0;34m\u001b[0m\u001b[0;34m\u001b[0m\u001b[0m\n\u001b[0;32m---> 72\u001b[0;31m     \u001b[0mtest\u001b[0m\u001b[0;34m(\u001b[0m\u001b[0msys\u001b[0m\u001b[0;34m.\u001b[0m\u001b[0margv\u001b[0m\u001b[0;34m[\u001b[0m\u001b[0;36m1\u001b[0m\u001b[0;34m]\u001b[0m\u001b[0;34m,\u001b[0m \u001b[0msys\u001b[0m\u001b[0;34m.\u001b[0m\u001b[0margv\u001b[0m\u001b[0;34m[\u001b[0m\u001b[0;36m2\u001b[0m\u001b[0;34m]\u001b[0m\u001b[0;34m)\u001b[0m\u001b[0;34m\u001b[0m\u001b[0;34m\u001b[0m\u001b[0m\n\u001b[0m",
      "\u001b[0;32m<ipython-input-1-714ce5b3b881>\u001b[0m in \u001b[0;36mtest\u001b[0;34m(training_file, testing_file)\u001b[0m\n\u001b[1;32m      8\u001b[0m \u001b[0;34m\u001b[0m\u001b[0m\n\u001b[1;32m      9\u001b[0m \u001b[0;32mdef\u001b[0m \u001b[0mtest\u001b[0m\u001b[0;34m(\u001b[0m\u001b[0mtraining_file\u001b[0m\u001b[0;34m,\u001b[0m \u001b[0mtesting_file\u001b[0m\u001b[0;34m)\u001b[0m\u001b[0;34m:\u001b[0m\u001b[0;34m\u001b[0m\u001b[0;34m\u001b[0m\u001b[0m\n\u001b[0;32m---> 10\u001b[0;31m     \u001b[0mX\u001b[0m\u001b[0;34m,\u001b[0m\u001b[0my\u001b[0m \u001b[0;34m=\u001b[0m \u001b[0mtrain\u001b[0m\u001b[0;34m.\u001b[0m\u001b[0mprocess_training_examples\u001b[0m\u001b[0;34m(\u001b[0m\u001b[0mtraining_file\u001b[0m\u001b[0;34m)\u001b[0m\u001b[0;34m\u001b[0m\u001b[0;34m\u001b[0m\u001b[0m\n\u001b[0m\u001b[1;32m     11\u001b[0m     \u001b[0mX_test\u001b[0m\u001b[0;34m,\u001b[0m \u001b[0my_test\u001b[0m \u001b[0;34m=\u001b[0m \u001b[0mtrain\u001b[0m\u001b[0;34m.\u001b[0m\u001b[0mprocess_training_examples\u001b[0m\u001b[0;34m(\u001b[0m\u001b[0mtesting_file\u001b[0m\u001b[0;34m)\u001b[0m\u001b[0;34m\u001b[0m\u001b[0;34m\u001b[0m\u001b[0m\n\u001b[1;32m     12\u001b[0m \u001b[0;34m\u001b[0m\u001b[0m\n",
      "\u001b[0;32m~/python/finalYearProject/train.py\u001b[0m in \u001b[0;36mprocess_training_examples\u001b[0;34m(filename)\u001b[0m\n\u001b[1;32m     23\u001b[0m     \u001b[0mX\u001b[0m \u001b[0;34m=\u001b[0m \u001b[0;34m[\u001b[0m\u001b[0;34m]\u001b[0m\u001b[0;34m\u001b[0m\u001b[0;34m\u001b[0m\u001b[0m\n\u001b[1;32m     24\u001b[0m     \u001b[0my\u001b[0m \u001b[0;34m=\u001b[0m \u001b[0;34m[\u001b[0m\u001b[0;34m]\u001b[0m\u001b[0;34m\u001b[0m\u001b[0;34m\u001b[0m\u001b[0m\n\u001b[0;32m---> 25\u001b[0;31m     \u001b[0;32mwith\u001b[0m \u001b[0mopen\u001b[0m\u001b[0;34m(\u001b[0m\u001b[0mfilename\u001b[0m\u001b[0;34m,\u001b[0m \u001b[0;34m'r'\u001b[0m\u001b[0;34m)\u001b[0m \u001b[0;32mas\u001b[0m \u001b[0mtraining_data\u001b[0m\u001b[0;34m:\u001b[0m\u001b[0;34m\u001b[0m\u001b[0;34m\u001b[0m\u001b[0m\n\u001b[0m\u001b[1;32m     26\u001b[0m         \u001b[0;32mwhile\u001b[0m \u001b[0;32mTrue\u001b[0m\u001b[0;34m:\u001b[0m\u001b[0;34m\u001b[0m\u001b[0;34m\u001b[0m\u001b[0m\n\u001b[1;32m     27\u001b[0m             \u001b[0mline\u001b[0m \u001b[0;34m=\u001b[0m \u001b[0mtraining_data\u001b[0m\u001b[0;34m.\u001b[0m\u001b[0mreadline\u001b[0m\u001b[0;34m(\u001b[0m\u001b[0;34m)\u001b[0m\u001b[0;34m.\u001b[0m\u001b[0mrstrip\u001b[0m\u001b[0;34m(\u001b[0m\u001b[0;34m)\u001b[0m\u001b[0;34m\u001b[0m\u001b[0;34m\u001b[0m\u001b[0m\n",
      "\u001b[0;31mFileNotFoundError\u001b[0m: [Errno 2] No such file or directory: '-f'"
     ]
    }
   ],
   "source": [
    "import sys\n",
    "import numpy as np\n",
    "import train\n",
    "from sklearn.metrics import confusion_matrix, plot_confusion_matrix\n",
    "import matplotlib.pyplot as plt\n",
    "\n",
    "fileTypes = [ 'pdf', 'html', 'jpg', 'png', 'doc', 'txt', 'xls', 'ppt', 'gif', 'xml', 'ps', 'csv', 'gz', 'log']\n",
    "\n",
    "def test(training_file, testing_file):\n",
    "    X,y = train.process_training_examples(training_file)\n",
    "    X_test, y_test = train.process_training_examples(testing_file)\n",
    "\n",
    "    # lin_svm = train.train_linear_svm(X, y)\n",
    "    # linear_svm_accuracy = test_with(lin_svm, X_test, y_test)\n",
    "    # print(\"LinearSVM accuracy = {}%\".format(100 * linear_svm_accuracy))\n",
    "\n",
    "    # rbf_svm = train.train_rbf_svm(X, y)\n",
    "    # rbf_svm_accuracy = test_with(rbf_svm, X_test, y_test)\n",
    "    # print(\"RBF-SVM accuracy = {}%\".format(100 * rbf_svm_accuracy))\n",
    "\n",
    "    # nbc = train.train_naive_bayes(X, y)\n",
    "    # nb_accuracy = test_with(nbc, X_test, y_test)\n",
    "    # print(\"Gaussian Naive Bayes accuracy = {}%\".format(100 * nb_accuracy))\n",
    "\n",
    "    # lda = train.train_lda(X, y)\n",
    "    # lda_accuracy = test_with(lda, X_test, y_test)\n",
    "    # print(\"LDA accuracy = {}%\".format(100 * lda_accuracy))\n",
    "\n",
    "    # tree = train.train_tree(X, y)\n",
    "    # tree_accuracy = test_with(tree, X_test, y_test)\n",
    "    # print(\"Tree accuracy = {}%\".format(100 * tree_accuracy))\n",
    "\n",
    "    mlp = train.mlp(X, y)\n",
    "    # mlp_accuracy = test_with(mlp, X_test, y_test)\n",
    "    # print(\"MLP accuracy = {}%\".format(100 * mlp_accuracy))\n",
    "\n",
    "    # kmeans = train.train_k_means(X, y)\n",
    "    # f = lambda y : fileTypes.index(y)\n",
    "    # y_test = [f(i) for i in y_test] \n",
    "    # kmeans_accuracy = test_with(kmeans, X_test, y_test)\n",
    "    # print(\"K-Means accuracy = {}%\".format(100 * kmeans_accuracy))\n",
    "\n",
    "    #Print SVM confusion matrix\n",
    "    # y_pred = rbf_svm.predict(X_test)\n",
    "    # cm = plot_confusion_matrix(rbf_svm, X_test, y_test)\n",
    "    # print(cm)\n",
    "    # plt.matshow(cm)\n",
    "    # plt.title('Confusion matrix for SVM Classification of File Fragment Types')\n",
    "    # plt.colorbar()\n",
    "    # plt.ylabel('True File Type')\n",
    "    # plt.xlabel('Predicted File Type')\n",
    "    # plt.show()\n",
    "\n",
    "def test_with(classifier, X, y):\n",
    "    correct_count = 0\n",
    "    for i in range(len(y)):\n",
    "        test_vec = np.reshape(X[i], (1, -1), order = 'C')\n",
    "        label = y[i]\n",
    "        expected_label = classifier.predict(test_vec)\n",
    "        if label == expected_label:\n",
    "            correct_count += 1\n",
    "    return float(correct_count) / len(y)\n",
    "\n",
    "def print_usage():\n",
    "    print(\"Usage: {} training_data.csv testing_data.csv\".format(sys.argv[0]))\n",
    "\n",
    "if __name__ == \"__main__\":\n",
    "    if len(sys.argv) < 3:\n",
    "        print_usage()\n",
    "        sys.exit(0)\n",
    "    print(\"Training data: {}\\tTesting data: {}\".format(sys.argv[1], sys.argv[2]))\n",
    "    test(sys.argv[1], sys.argv[2])\n"
   ]
  }
 ],
 "metadata": {
  "kernelspec": {
   "display_name": "Python 3",
   "language": "python",
   "name": "python3"
  },
  "language_info": {
   "codemirror_mode": {
    "name": "ipython",
    "version": 3
   },
   "file_extension": ".py",
   "mimetype": "text/x-python",
   "name": "python",
   "nbconvert_exporter": "python",
   "pygments_lexer": "ipython3",
   "version": "3.8.5"
  }
 },
 "nbformat": 4,
 "nbformat_minor": 4
}
